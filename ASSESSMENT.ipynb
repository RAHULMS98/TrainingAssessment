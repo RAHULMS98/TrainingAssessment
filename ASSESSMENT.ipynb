{
 "cells": [
  {
   "cell_type": "code",
   "execution_count": 25,
   "id": "decee482-eee7-40e2-bd90-86c6f04ddced",
   "metadata": {},
   "outputs": [
    {
     "name": "stdout",
     "output_type": "stream",
     "text": [
      "20\n"
     ]
    }
   ],
   "source": [
    "def max_steal(val):\n",
    "    num = len(val)\n",
    "    if num == 0: return 0\n",
    "    if num == 1: return val[0]\n",
    "    \n",
    "    dp = [0] * n\n",
    "    dp[0] = val[0]\n",
    "    dp[1] = max(val[0], val[1])\n",
    "    \n",
    "    for i in range(2, n):\n",
    "        dp[i] = max(val[i] + dp[i-2], dp[i-1])\n",
    "        \n",
    "    return dp[-1]\n",
    "\n",
    "\n",
    "val = [6, 7, 1, 3, 8, 2, 5]\n",
    "print(max_steal(val))  # Output: 20\n"
   ]
  },
  {
   "cell_type": "code",
   "execution_count": 61,
   "id": "09807f10-40e9-4138-bad7-f854e26cca45",
   "metadata": {},
   "outputs": [
    {
     "name": "stdout",
     "output_type": "stream",
     "text": [
      "11112\n",
      "32222\n",
      "33334\n",
      "54444\n",
      "55556\n"
     ]
    }
   ],
   "source": [
    "for i in range(5):\n",
    "    for j in range(5):\n",
    "        if (i % 2 == 0 and j == 4):\n",
    "            print(i+2, end=\"\")\n",
    "        elif (i%2==1 and j==0):\n",
    "            print(i+2, end=\"\")\n",
    "        else:\n",
    "            print(i+1,end=\"\")\n",
    "    print()\n"
   ]
  },
  {
   "cell_type": "code",
   "execution_count": 37,
   "id": "6f9a7f49-1e10-4c38-aa9d-8274f6fab1e1",
   "metadata": {},
   "outputs": [
    {
     "name": "stdout",
     "output_type": "stream",
     "text": [
      "First 5 Disarium Numbers:\n",
      "0 1 2 3 4 \n",
      "Disarium Numbers between 1 and 200:\n",
      "1 2 3 4 5 6 7 8 9 89 135 175 "
     ]
    }
   ],
   "source": [
    "def is_disarium(num):\n",
    "    s = 0\n",
    "    temp = num\n",
    "    p = len(str(num))\n",
    "    while temp:\n",
    "        s += (temp % 10) ** p\n",
    "        temp //= 10\n",
    "        p -= 1\n",
    "    return s == num\n",
    "\n",
    "def first_n_disarium(n):\n",
    "    count = 0\n",
    "    num = 0\n",
    "    while count < n:\n",
    "        if is_disarium(num):\n",
    "            print(num, end=' ')\n",
    "            count += 1\n",
    "        num += 1\n",
    "\n",
    "def disarium_between(start, end):\n",
    "    for num in range(start, end+1):\n",
    "        if is_disarium(num):\n",
    "            print(num, end=' ')\n",
    "\n",
    "print(\"First 5 Disarium Numbers:\")\n",
    "first_n_disarium(5)\n",
    "print(\"\\nDisarium Numbers between 1 and 200:\")\n",
    "disarium_between(1, 200)\n"
   ]
  },
  {
   "cell_type": "code",
   "execution_count": null,
   "id": "86961210-2d40-4bb9-8f61-885649d80163",
   "metadata": {},
   "outputs": [],
   "source": []
  },
  {
   "cell_type": "code",
   "execution_count": null,
   "id": "561d6ddf-185c-4e70-a958-9000f1c18ffb",
   "metadata": {},
   "outputs": [],
   "source": []
  },
  {
   "cell_type": "code",
   "execution_count": null,
   "id": "b5c0e5b7-e4e7-4394-bc62-f0104e90f1ee",
   "metadata": {},
   "outputs": [],
   "source": []
  },
  {
   "cell_type": "code",
   "execution_count": null,
   "id": "75dba99e-1a81-405c-82d2-c0d9822779c6",
   "metadata": {},
   "outputs": [],
   "source": []
  }
 ],
 "metadata": {
  "kernelspec": {
   "display_name": "Python [conda env:base] *",
   "language": "python",
   "name": "conda-base-py"
  },
  "language_info": {
   "codemirror_mode": {
    "name": "ipython",
    "version": 3
   },
   "file_extension": ".py",
   "mimetype": "text/x-python",
   "name": "python",
   "nbconvert_exporter": "python",
   "pygments_lexer": "ipython3",
   "version": "3.12.7"
  }
 },
 "nbformat": 4,
 "nbformat_minor": 5
}
